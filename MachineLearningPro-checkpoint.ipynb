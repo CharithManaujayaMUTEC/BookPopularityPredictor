{
 "cells": [
  {
   "cell_type": "markdown",
   "id": "ebf6d46e-8ce7-4fdd-b546-da722737d423",
   "metadata": {},
   "source": [
    "# My project\n",
    "## GroupNo\n",
    "Text aaaaaaaaaaaaaaaaaaaaaaaaaaaaaaaaaaaaaaaaaaaaaaaaaa\n",
    "1. item1\n",
    "2. item 2\n",
    "3. item 3\n"
   ]
  },
  {
   "cell_type": "code",
   "execution_count": null,
   "id": "afef8074-7daf-43c2-8876-f051b580a439",
   "metadata": {},
   "outputs": [],
   "source": [
    "import numpy as np\n",
    "import mathpotlib.pylab as plt\n",
    "import mathpotlib\n",
    "import pandas as pd"
   ]
  },
  {
   "cell_type": "code",
   "execution_count": null,
   "id": "d995878c-0e69-4200-9f9d-e5314d9abc7c",
   "metadata": {},
   "outputs": [],
   "source": []
  },
  {
   "cell_type": "code",
   "execution_count": null,
   "id": "bf33231b-ee63-44b4-8eb9-7136dd84686e",
   "metadata": {},
   "outputs": [],
   "source": []
  }
 ],
 "metadata": {
  "kernelspec": {
   "display_name": "Python 3 (ipykernel)",
   "language": "python",
   "name": "python3"
  },
  "language_info": {
   "codemirror_mode": {
    "name": "ipython",
    "version": 3
   },
   "file_extension": ".py",
   "mimetype": "text/x-python",
   "name": "python",
   "nbconvert_exporter": "python",
   "pygments_lexer": "ipython3",
   "version": "3.12.7"
  }
 },
 "nbformat": 4,
 "nbformat_minor": 5
}
